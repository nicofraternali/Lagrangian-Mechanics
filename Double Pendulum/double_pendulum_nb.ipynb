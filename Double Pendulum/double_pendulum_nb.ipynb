{
 "cells": [
  {
   "cell_type": "code",
   "execution_count": 1,
   "metadata": {},
   "outputs": [],
   "source": [
    "import numpy as np\n",
    "import sympy as smp\n",
    "from scipy.integrate import solve_ivp\n",
    "import matplotlib.pyplot as plt\n",
    "import matplotlib.animation as animation\n",
    "import matplotlib.gridspec as gridspec"
   ]
  },
  {
   "cell_type": "markdown",
   "metadata": {},
   "source": [
    "<center>\n",
    "\n",
    "# **Double Pendulum**\n",
    "\n",
    "<center>\n",
    "\n",
    "In this Notebook we will use Lagrangian Mechanics to deduce the equations of motion of the two masses involved in the double pendulum (using as tools SymPy and SciPy to solve symbolically and lambdify our solutions). Then a few 2D plots will be created to ilustrate the relation between angles and angular velocity. Finally a 2D animation of the double pendulum will be created."
   ]
  },
  {
   "cell_type": "markdown",
   "metadata": {},
   "source": [
    "<center>\n",
    "\n",
    "![Centered Pendulim](Double-Pendulum.svg)\n",
    "\n",
    "<center>\n",
    "\n",
    "*Fig. I Double pendulum*"
   ]
  },
  {
   "cell_type": "markdown",
   "metadata": {},
   "source": [
    "## **Solving the Double Pendulum**"
   ]
  },
  {
   "cell_type": "markdown",
   "metadata": {},
   "source": [
    "To set up the most important part, deducing the equations of motion we will follow this three steps:\n",
    "\n",
    "1. Write down kinematics constraints\n",
    "2. Write down the Lagrangian of the system\n",
    "3. Solve the Euler-Lagrange equation"
   ]
  },
  {
   "cell_type": "markdown",
   "metadata": {},
   "source": [
    "### **1. Write down kinematics constraints**\n",
    "\n",
    "For the mass number one ($m_1$):\n",
    "\n",
    "\\begin{aligned}\n",
    "    x_1 &= l_1 \\sin(\\theta_1) \\hspace{2mm} \\Rightarrow \\hspace{2mm} \\dot{x_1} = \\dot{\\theta_1} l_1 \\cos(\\theta_1) \\\\\n",
    "    y_1 &= l_1 \\cos(\\theta_1) \\hspace{1.6mm} \\Rightarrow \\hspace{2mm} \\dot{y_1} = -\\dot{\\theta_1} l_1 \\sin(\\theta_1)\n",
    "\\end{aligned}\n",
    "\n",
    "Then for mass number two ($m_2$):\n",
    "\n",
    "\\begin{aligned}\n",
    "    x_2 &= l_1 \\sin(\\theta_1) + l_2 \\sin(\\theta_2) \\hspace{2mm} \\Rightarrow \\hspace{2mm} \\dot{x_2} = \\dot{\\theta_1} l_1 \\cos(\\theta_1) + \\dot{\\theta_2} l_2 \\cos(\\theta_2) \\\\\n",
    "    y_2 &= l_1 \\cos(\\theta_1) + l_2 \\cos(\\theta_2) \\hspace{1.3mm} \\Rightarrow \\hspace{2mm} \\dot{y_2} = -\\dot{\\theta_1} l_1 \\sin(\\theta_1)- \\dot{\\theta_2} l_2 \\sin(\\theta_2)\n",
    "\\end{aligned}"
   ]
  },
  {
   "cell_type": "code",
   "execution_count": null,
   "metadata": {},
   "outputs": [],
   "source": [
    "# Define symbols and variables\n",
    "\n",
    "t, g = smp.symbols('t g')\n",
    "m1, m2 = smp.symbols('m_1 m_2', real= True, positive= True)\n",
    "l1, l2 = smp.symbols('l_1 l_2', real= True, positive= True)\n",
    "\n",
    "# Define angles as functions of time\n",
    "\n",
    "theta1, theta2 = smp.symbols(r'\\theta_1 \\theta_2', cls= smp.Function)\n",
    "theta1 = theta1(t)\n",
    "theta2 = theta2(t)\n",
    "\n",
    "# Define the derivatives for later use\n",
    "\n",
    "theta1_d = smp.diff(theta1, t, 1)\n",
    "theta1_dd = smp.diff(theta1, t, 2)\n",
    "\n",
    "theta2_d = smp.diff(theta2, t, 1)\n",
    "theta2_dd = smp.diff(theta2, t, 2)\n",
    "\n",
    "# Define the kinematic constraints\n",
    "\n",
    "x1 = l1*smp.sin(theta1)\n",
    "y1 = -l1*smp.cos(theta1)\n",
    "x1_d = smp.diff(x1, t, 1)\n",
    "y1_d = smp.diff(y1, t, 1)\n",
    "\n",
    "x2 = l1*smp.sin(theta1) + l2*smp.sin(theta2)\n",
    "y2 = -l1*smp.cos(theta1) - l2*smp.cos(theta2)\n",
    "x2_d = smp.diff(x2, t, 1)\n",
    "y2_d =smp.diff(y2, t, 1)"
   ]
  },
  {
   "cell_type": "markdown",
   "metadata": {},
   "source": [
    "### **2. Write down the Lagrangian of the system**\n",
    "\n",
    "The Lagrangian is defines has the difference between the kinetic and potential energy of the system\n",
    "\n",
    "\\begin{aligned}\n",
    "    L = T - V \n",
    "\\end{aligned}\n",
    "\n",
    "where\n",
    "\n",
    "\\begin{aligned}\n",
    "    T = \\frac{1}{2} m_i v_i^2 \\\\\n",
    "    V = m_i g h_i\n",
    "\\end{aligned}\n",
    "\n",
    "For the mass number one ($m_1$):\n",
    "\n",
    "\\begin{gathered}\n",
    "    T_1 = \\frac{1}{2} m_1 (\\dot{x_1}^2 + \\dot{y_1}^2) \\\\\n",
    "    V_1 = m_1 g \\hspace{0.2mm} y_1\n",
    "\\end{gathered}\n",
    "\n",
    "Then for mass number two ($m_2$):\n",
    "\n",
    "\\begin{gathered}\n",
    "    T_2 = \\frac{1}{2} m_2 (\\dot{x_2}^2 + \\dot{y_2}^2) \\\\\n",
    "    V_2 = m_2 g \\hspace{0.2mm} y_2\n",
    "\\end{gathered}\n",
    "\n",
    "Finally, the Lagrangian of the system is the sum of the Lagrangian of each mass, such that\n",
    "\n",
    "\\begin{gathered}\n",
    "    L = (T_1 + T_2) - (V_1 + V_2) \\\\\n",
    "    = \\frac{1}{2}(m_1(\\dot{x_1}^2 + \\dot{y_1}^2) + m_2 (\\dot{x_2}^2 + \\dot{y_2}^2)) \\\\\n",
    "    - m_1 g \\hspace{0.2mm} y_1 - m_2 g \\hspace{0.2mm} y_2 \n",
    "\\end{gathered}\n",
    "\n"
   ]
  },
  {
   "cell_type": "code",
   "execution_count": 107,
   "metadata": {},
   "outputs": [],
   "source": [
    "# Define kinetic energy \n",
    "\n",
    "T1 = (1/2) * m1* (x1_d**2 + y1_d**2)\n",
    "T2 = (1/2) * m2* (x2_d**2 + y2_d**2)\n",
    "T = T1 + T2\n",
    "\n",
    "# Define potential energy\n",
    "\n",
    "V1 = m1 * g * y1\n",
    "V2 = m2 * g * y2\n",
    "V = V1 + V2 \n",
    "\n",
    "# Define the Lagrangian\n",
    "\n",
    "L = T - V"
   ]
  },
  {
   "cell_type": "markdown",
   "metadata": {},
   "source": [
    "### **3. Solve the Euler-Lagrange equations**\n",
    "\n",
    "Since the double pendulum system has two generalized coordinates ($\\theta_1$ and $\\theta_2$) there are two Euler-Lagrange equations\n",
    "\n",
    "\\begin{gathered}\n",
    "    \\frac{\\partial L}{\\partial\\theta_1}-\\frac{d}{dt}\\frac{\\partial L}{\\partial\\dot{\\theta_1}}=0 \\\\\n",
    "    \\frac{\\partial L}{\\partial\\theta_2}-\\frac{d}{dt}\\frac{\\partial L}{\\partial\\dot{\\theta_2}}=0\n",
    "\\end{gathered}\n",
    "\n",
    "This pair of equations, when solved, gives the equation of motion related to the corresponding generalized coordinate."
   ]
  },
  {
   "cell_type": "code",
   "execution_count": 108,
   "metadata": {},
   "outputs": [],
   "source": [
    "# Define each Euler-Lagrange equation\n",
    "\n",
    "LE1 = smp.diff(L, theta1) - smp.diff(smp.diff(L, theta1_d), t).simplify()\n",
    "LE2 = smp.diff(L, theta2) - smp.diff(smp.diff(L, theta2_d), t).simplify()\n",
    "\n",
    "# Solve the system of equations\n",
    "\n",
    "sols = smp.solve([LE1, LE2], (theta1_dd, theta2_dd))"
   ]
  },
  {
   "cell_type": "markdown",
   "metadata": {},
   "source": [
    "So now we have two second order ODEs, to solve them in Python we must convert them to two systems of equations, each one containing of two first order ODEs. To do this we perform the following substitutions \n",
    "\n",
    "\\begin{gathered}\n",
    "    \\dot{\\theta_1} = z_1 \\hspace{3mm} \\Longrightarrow \\hspace{3mm} \\dot{z_1} = \\ddot{\\theta_1} \\\\ \n",
    "    \\dot{\\theta_2} = z_2 \\hspace{3mm} \\Longrightarrow \\hspace{3mm} \\dot{z_2} = \\ddot{\\theta_2} \n",
    "\\end{gathered}\n",
    "\n",
    "Now, the ODE solver we are going to use (SciPy's *solve_ivp*) requires us to define a vector $\\vec{S}=(\\theta_1,z_1,\\theta_2,z_2)$. Then the solver takes this vector and $\\text{t}$ and returns $\\frac{d\\vec{S}}{dt}$, essentialy solving both first order system of equations previously defined.\n",
    "\n",
    "The solver, being a numerical solver, handles numerical functions. We need to convert our symbolical expressions using the *lamdify* function that SymPy provides.\n"
   ]
  },
  {
   "cell_type": "code",
   "execution_count": 109,
   "metadata": {},
   "outputs": [],
   "source": [
    "# The parameters of smp.lambdify() are, first arguments of the function, then the expression to lambdify\n",
    "\n",
    "# Convert the derivative of z1 and z2, i.e the second derivative of theta_1 and theta_2\n",
    "\n",
    "th1_dtt = smp.lambdify((g, m1, m2, l1, l2, theta1, theta2, theta1_d, theta2_d), sols[theta1_dd])\n",
    "th2_dtt = smp.lambdify((g, m1, m2, l1, l2, theta1, theta2, theta1_d, theta2_d), sols[theta2_dd])"
   ]
  },
  {
   "cell_type": "markdown",
   "metadata": {},
   "source": [
    "Finally we have to set up the code to use *solve_ivp* (write the function that defines the system of ODEs, initial conditions and time interval). This solver uses as default the 4th order Runge-Kutta method (RK4).\n",
    "\n",
    "Euler method approximates a function by evaluating the derivative function at the beginning of a time step using the following rule\n",
    "\n",
    "$$y_{n+1} = y_n + hf(t_n, y_n)$$\n",
    "\n",
    "where $f(t_n, y_n)$ is the value of the derivative function at $t_n$.\n",
    "\n",
    "The RK4 method insted of using just the value of $f(t_n, y_n)$ it uses four different evaluations at carefully chosen points within the time step to refine the estimation, then it computes a weighted average of the four values\n",
    "\n",
    "\\begin{gathered}\n",
    "k_1 =hf(t_n,y_n)\\\\\n",
    "k_2=hf(t_n+\\frac{h}{2},y_n+\\frac{k_1}{2})\\\\\n",
    "k_3=hf=(t_n+\\frac{h}{2},y_n+\\frac{k_2}{2})\\\\\n",
    "k_4=hf(t_n+h,y_n+k_3)\\\\\n",
    "y_{n+1}=y_n+\\frac{1}{6}(k_1+2k_2+2k_3+k_4)\n",
    "\\end{gathered}\n",
    "\n",
    "The solver *solve_ivp's* uses an variant with adaptive step-size, this is needed to reduce the error in systems where the behaviour changes dramatically over time, cases where the slope of the solution is steep or changes rapidly. The solver does this by estimating the local error at each step by computing two approximations, the actual approximation and one with a larger order numerical method like RK5, the difference betweem them is the local error, based on the value the step-size is increased or decreased."
   ]
  },
  {
   "cell_type": "code",
   "execution_count": 156,
   "metadata": {},
   "outputs": [],
   "source": [
    "# Define parameters, time interval, time array and initial coditions\n",
    "\n",
    "g_val = 9.81\n",
    "m1_val = 3\n",
    "m2_val = 1\n",
    "l1_val = 1.5\n",
    "l2_val = 1\n",
    "\n",
    "# Define function that describes the system of ODE\n",
    "\n",
    "def sys_of_ode(t, S, g, m1, m2, l1, l2):\n",
    "    \n",
    "    theta1, theta1_d, theta2, theta2_d = S\n",
    "\n",
    "    theta1_dd = th1_dtt(g, m1, m2, l1, l2, theta1, theta2, theta1_d, theta2_d)\n",
    "    theta2_dd = th2_dtt(g, m1, m2, l1, l2, theta1, theta2, theta1_d, theta2_d)\n",
    "\n",
    "    return [theta1_d, theta1_dd, theta2_d, theta2_dd]\n",
    "\n",
    "a, b = 0, 15\n",
    "t = np.linspace(0, 15, 1001)\n",
    "\n",
    "# Initial conditions: Angle_1, Velocity_1, Angle_2, Velocity_2\n",
    "\n",
    "init_cond = [np.deg2rad(120), 1, np.pi/4, 0] \n",
    "\n",
    "# Solve the system of ODEs using solve_ivp\n",
    "\n",
    "solution = solve_ivp(\n",
    "        fun = sys_of_ode,\n",
    "        t_span = (a, b),\n",
    "        y0 = init_cond,\n",
    "        t_eval = t,\n",
    "        args = (g_val, m1_val, m2_val, l1_val, l2_val),\n",
    ")\n",
    "\n",
    "# Extract the data from solution\n",
    "\n",
    "t_sol = solution.t\n",
    "\n",
    "theta1 = solution.y[0]\n",
    "theta2 = solution.y[2]\n",
    "\n",
    "theta1_d = solution.y[1]\n",
    "theta2_d = solution.y[3]"
   ]
  },
  {
   "cell_type": "code",
   "execution_count": 157,
   "metadata": {},
   "outputs": [
    {
     "data": {
      "image/png": "[encoded data removed]",
      "text/plain": [
       "<Figure size 640x480 with 2 Axes>"
      ]
     },
     "metadata": {},
     "output_type": "display_data"
    }
   ],
   "source": [
    "fig = plt.figure()\n",
    "gs = gridspec.GridSpec(2, 1)\n",
    "\n",
    "# Figure for theta1 vs time\n",
    "\n",
    "axis_1 = fig.add_subplot(gs[0, 0])\n",
    "axis_1.plot(t_sol, theta1)  \n",
    "axis_1.grid()\n",
    "\n",
    "# Figure for theta2 vs time     \n",
    "\n",
    "axis_2 = fig.add_subplot(gs[1,0])\n",
    "axis_2.plot(t_sol, theta2)\n",
    "axis_2.grid()"
   ]
  },
  {
   "cell_type": "code",
   "execution_count": 158,
   "metadata": {},
   "outputs": [],
   "source": [
    "# Function to get the coordinates of the masses\n",
    "\n",
    "def pend_pos(theta1, theta2):\n",
    "    return (l1_val*np.sin(theta1),\n",
    "            -l1_val*np.cos(theta1),\n",
    "            l1_val*np.sin(theta1) + l2_val*np.sin(theta2),\n",
    "            -l1_val*np.cos(theta1) - l2_val*np.cos(theta2)\n",
    "            )"
   ]
  },
  {
   "cell_type": "code",
   "execution_count": 161,
   "metadata": {},
   "outputs": [
    {
     "data": {
      "image/png": "[encoded data removed]",
      "text/plain": [
       "<Figure size 640x480 with 1 Axes>"
      ]
     },
     "metadata": {},
     "output_type": "display_data"
    }
   ],
   "source": [
    "# Create the figure of the animation, the line for the pendulum and the circle for the mass\n",
    "\n",
    "fig = plt.figure()\n",
    "axis = fig.add_subplot(aspect='equal')\n",
    "axis.set_xlim(-(l1_val+l2_val), (l1_val+l2_val))\n",
    "axis.set_ylim(-(l1_val+l2_val), (l1_val+l2_val))\n",
    "axis.grid()\n",
    "\n",
    "x1_0, y1_0, x2_0, y2_0 = pend_pos(init_cond[0], init_cond[2])\n",
    "line1, = axis.plot([0, x1_0], [0, y1_0], lw=2, c='k')\n",
    "line2, = axis.plot([x1_0, x2_0], [y1_0, y2_0], lw=2, c='k')\n",
    "hinge_circle = axis.add_patch(plt.Circle((0, 0), 0.015, fc='k', zorder=3))\n",
    "circle1 = axis.add_patch(plt.Circle((x1_0, y1_0), 0.05, fc='r', zorder=3))\n",
    "circle2 = axis.add_patch(plt.Circle((x2_0, y2_0), 0.05, fc='r', zorder=3))\n",
    "\n",
    "# Define function to update data each frame (animate plot)\n",
    "\n",
    "def update_anim(i):\n",
    "    x1, y1, x2, y2 = pend_pos(theta1[i], theta2[i])\n",
    "    line1.set_data([0, x1], [0, y1])\n",
    "    line2.set_data([x1, x2], [y1, y2])\n",
    "    circle1.set_center((x1, y1))\n",
    "    circle2.set_center((x2, y2))\n",
    "\n",
    "anim = animation.FuncAnimation(\n",
    "                fig = fig,\n",
    "                func = update_anim,\n",
    "                frames = 600\n",
    ")\n",
    "\n",
    "plt.rcParams['animation.ffmpeg_path'] = 'C:\\\\ProgramData\\\\chocolatey\\\\lib\\\\ffmpeg\\\\tools\\\\ffmpeg\\\\bin\\\\ffmpeg.exe'\n",
    "ffmpeg_writer = animation.FFMpegWriter(fps=30)\n",
    "anim.save('double_pendulum_anim.mp4', writer=ffmpeg_writer)\n",
    "\n",
    "plt.show()"
   ]
  }
 ],
 "metadata": {
  "kernelspec": {
   "display_name": "Python 3",
   "language": "python",
   "name": "python3"
  },
  "language_info": {
   "codemirror_mode": {
    "name": "ipython",
    "version": 3
   },
   "file_extension": ".py",
   "mimetype": "text/x-python",
   "name": "python",
   "nbconvert_exporter": "python",
   "pygments_lexer": "ipython3",
   "version": "3.12.6"
  }
 },
 "nbformat": 4,
 "nbformat_minor": 2
}
